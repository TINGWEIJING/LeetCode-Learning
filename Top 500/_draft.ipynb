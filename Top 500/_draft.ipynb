{
 "cells": [
  {
   "cell_type": "code",
   "execution_count": 14,
   "metadata": {},
   "outputs": [],
   "source": [
    "import math\n",
    "import numpy as np\n",
    "import itertools"
   ]
  },
  {
   "cell_type": "code",
   "execution_count": 31,
   "metadata": {},
   "outputs": [
    {
     "name": "stdout",
     "output_type": "stream",
     "text": [
      "1.0\n"
     ]
    }
   ],
   "source": [
    "itertools.product()"
   ]
  },
  {
   "cell_type": "code",
   "execution_count": 16,
   "metadata": {},
   "outputs": [
    {
     "name": "stdout",
     "output_type": "stream",
     "text": [
      "1.5707963267948966\n"
     ]
    }
   ],
   "source": [
    "print(math.radians(90))"
   ]
  },
  {
   "cell_type": "code",
   "execution_count": 28,
   "metadata": {},
   "outputs": [
    {
     "name": "stdout",
     "output_type": "stream",
     "text": [
      "0.0\n",
      "(3, 4) - (0, 0)\n",
      "4.131728990893145\n",
      "-0.5\n",
      "(3, 4) - (1, 1)\n",
      "14.101419947171719\n",
      "1.0\n",
      "(3, 4) - (8, 9)\n",
      "1.5574077246549023\n",
      "1.0\n",
      "(3, 4) - (5, 6)\n",
      "1.5574077246549023\n",
      "1.0\n",
      "(3, 4) - (7, 8)\n",
      "1.5574077246549023\n",
      "0.0\n",
      "(0, 0) - (1, 1)\n",
      "1.5574077246549023\n",
      "0.0\n",
      "(0, 0) - (8, 9)\n",
      "2.092571276372179\n",
      "0.0\n",
      "(0, 0) - (5, 6)\n",
      "2.5721516221263188\n",
      "0.0\n",
      "(0, 0) - (7, 8)\n",
      "2.1923617630952115\n",
      "-0.1428571428571428\n",
      "(1, 1) - (8, 9)\n",
      "2.1923617630952115\n",
      "-0.25\n",
      "(1, 1) - (5, 6)\n",
      "3.0095696738628313\n",
      "-0.16666666666666674\n",
      "(1, 1) - (7, 8)\n",
      "2.338253563581179\n",
      "1.0\n",
      "(8, 9) - (5, 6)\n",
      "1.5574077246549023\n",
      "1.0\n",
      "(8, 9) - (7, 8)\n",
      "1.5574077246549023\n",
      "1.0\n",
      "(5, 6) - (7, 8)\n",
      "1.5574077246549023\n"
     ]
    }
   ],
   "source": [
    "points = [\n",
    "    (3, 4), (0, 0), (1, 1), (8, 9), (5, 6), (7, 8)\n",
    "]\n",
    "for i in range(len(points)):\n",
    "    pt_1 = points[i]\n",
    "    for j in range(i+1, len(points)):\n",
    "        pt_2 = points[j]\n",
    "\n",
    "        dy = pt_1[1] - pt_2[1]\n",
    "        dx = pt_1[0] - pt_2[0]\n",
    "\n",
    "        intersection_c = pt_1[1] - (dy/dx) * pt_1[0]\n",
    "\n",
    "        print(intersection_c)\n",
    "\n",
    "        if dx > 0 or dx < 0:\n",
    "            # angle_rad = math.atan(dy/dx)\n",
    "            angle_rad = np.tan(dy/dx)\n",
    "        else:\n",
    "            angle_rad = math.radians(90)\n",
    "        print(f'{pt_1} - {pt_2}')\n",
    "        print(angle_rad)"
   ]
  }
 ],
 "metadata": {
  "kernelspec": {
   "display_name": "venv",
   "language": "python",
   "name": "python3"
  },
  "language_info": {
   "codemirror_mode": {
    "name": "ipython",
    "version": 3
   },
   "file_extension": ".py",
   "mimetype": "text/x-python",
   "name": "python",
   "nbconvert_exporter": "python",
   "pygments_lexer": "ipython3",
   "version": "3.8.10"
  },
  "orig_nbformat": 4,
  "vscode": {
   "interpreter": {
    "hash": "0331488ee4b717800067d0ab5ea239fd22397b8460a35247084b207001ab6fe1"
   }
  }
 },
 "nbformat": 4,
 "nbformat_minor": 2
}
